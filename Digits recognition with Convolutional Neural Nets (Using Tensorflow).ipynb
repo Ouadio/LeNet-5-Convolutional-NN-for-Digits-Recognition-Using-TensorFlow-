{
 "cells": [
  {
   "cell_type": "markdown",
   "metadata": {},
   "source": [
    "# Handwritten Digits Recognition with a Convolutional Neural Network [LeNet-5] (Using Tensorflow)\n",
    "\n",
    "## Overview\n",
    "**The DataSet** : The MNIST database of handwritten digits, available from this page : http://yann.lecun.com/exdb/mnist/index.html, has a training set of 60,000 examples, and a test set of 10,000 examples. The digits have been size-normalized and centered in a fixed-size image, with a dimension of 28 by 28 and a single channel (since it's in gray scale). The database is labeled with numerical values ranging from 0 to 9 (10 classes).  \n",
    "\n",
    "**The Task** : Build a multi-classification model that predicts the label of a 28*28 image of a handwritten digit.  \n",
    "\n",
    "\n",
    "\n",
    "\n",
    "## Loading & Preparing the dataset "
   ]
  },
  {
   "cell_type": "code",
   "execution_count": 19,
   "metadata": {},
   "outputs": [
    {
     "name": "stdout",
     "output_type": "stream",
     "text": [
      "Shape of training data : shape(X) = (60000, 28, 28), shape(Y) = (60000,)\n",
      "Shape of test data : shape(X) = (10000, 28, 28), shape(Y) = (10000,)\n"
     ]
    },
    {
     "data": {
      "image/png": "[encoded data removed]",
      "text/plain": [
       "<Figure size 432x288 with 9 Axes>"
      ]
     },
     "metadata": {},
     "output_type": "display_data"
    }
   ],
   "source": [
    "#Loading Libraries\n",
    "\n",
    "import matplotlib.pyplot as plt\n",
    "import numpy as np\n",
    "import pandas as pd\n",
    "import tensorflow as tf\n",
    "import keras.utils as kut\n",
    "\n",
    "#Loading data\n",
    "from keras.datasets import mnist\n",
    "(train_images, train_labels), (test_images, test_labels) = mnist.load_data()\n",
    "\n",
    "#Plotting some examples\n",
    "fig = plt.figure()\n",
    "for i in range(9):\n",
    "  plt.subplot(3,3,i+1)\n",
    "  plt.tight_layout()\n",
    "  plt.imshow(train_images[i,], cmap='gray', interpolation='none')\n",
    "  plt.title(\"Digit: {}\".format(train_labels[i,]))\n",
    "  plt.xticks([])\n",
    "  plt.yticks([])\n",
    "\n",
    "#Overview of data shapes\n",
    "print(\"Shape of training data : shape(X) = \"+str(train_images.shape) + \", shape(Y) = \"+str(train_labels.shape))\n",
    "print(\"Shape of test data : shape(X) = \"+str(test_images.shape) + \", shape(Y) = \"+str(test_labels.shape))"
   ]
  },
  {
   "cell_type": "markdown",
   "metadata": {},
   "source": [
    "Before moving to the model, we start first by scaling up the dataset's images to take values in (0,1). We also turn the labels to categorical variables with one-hot encoding to follow the LeNet-5 architecture and use a softmax loss function."
   ]
  },
  {
   "cell_type": "code",
   "execution_count": 20,
   "metadata": {},
   "outputs": [],
   "source": [
    "#Scaling Up images\n",
    "train_images = train_images.astype('float32')/255\n",
    "test_images = test_images.astype('float32')/255\n",
    "\n",
    "train_images = np.expand_dims(train_images, axis=3)\n",
    "test_images = np.expand_dims(test_images, axis=3)\n",
    "\n",
    "#Turning the labels into categorical variables (One-hot encoding)\n",
    "train_labels = kut.to_categorical(train_labels)\n",
    "test_labels = kut.to_categorical(test_labels)"
   ]
  },
  {
   "cell_type": "markdown",
   "metadata": {},
   "source": [
    "## Building the LeNet-5 Convolutional Neural Network\n",
    "\n",
    "The figure below shows a simplified architecture of a **modern version of the LeNet-5 CNN**."
   ]
  },
  {
   "cell_type": "markdown",
   "metadata": {},
   "source": [
    "<img src=\"LeNet5_Architecture.png\"> "
   ]
  },
  {
   "cell_type": "code",
   "execution_count": 24,
   "metadata": {},
   "outputs": [],
   "source": [
    "#Setting the Hyperparameters\n",
    "n_C0 = 1             #Number of channels of the input\n",
    "n_H0, n_W0 = 28, 28  #Height/Width of the input layer\n",
    "\n",
    "n_H1, n_W1 = 5,5     #Height/Width of the first convolution filter\n",
    "n_C1 = 6             #Number of channels of the 1st convolution layer (number of filters)\n",
    "\n",
    "n_H2, n_W2 = 5,5     #Height/Width of the second convolution layer\n",
    "n_C2 = 16            #Number of channels of the 2nd convolution layer (number of filters)\n",
    "\n",
    "learning_rate = 0.005\n",
    "\n",
    "#Setting constants\n",
    "n_y = 10             #Number of classes (labels)\n"
   ]
  },
  {
   "cell_type": "markdown",
   "metadata": {},
   "source": [
    "### Computational Graph Building"
   ]
  },
  {
   "cell_type": "code",
   "execution_count": 31,
   "metadata": {},
   "outputs": [],
   "source": [
    "\n",
    "myGraph = tf.Graph()\n",
    "with myGraph.as_default():\n",
    "    \n",
    "    #Placeholders\n",
    "    with tf.name_scope(\"Placeholders\"):\n",
    "        X = tf.placeholder(dtype=tf.float32,shape=(None, n_H0, n_W0, n_C0))\n",
    "        Y = tf.placeholder(dtype=tf.float32, shape=(None, n_y))\n",
    "        \n",
    "    #First Convolution Layer    \n",
    "    with tf.name_scope(\"ConvLayer1\"):\n",
    "        W1 = tf.get_variable( \"W1\",shape = (n_H1, n_W1, n_C0, n_C1),initializer= tf.contrib.layers.xavier_initializer(seed = 19), dtype=tf.float32)\n",
    "        B1 = tf.get_variable(\"B1\", shape= (1,1,1,n_C1), initializer= tf.contrib.layers.xavier_initializer(seed = 13), dtype=tf.float32)\n",
    "        Z1 = tf.nn.conv2d(X,W1, strides = [1,1,1,1], padding = 'SAME') #Same padding to keep same dimensions in the output\n",
    "        A1 = tf.nn.relu(tf.nn.bias_add(Z1, tf.squeeze(B1)))\n",
    "        P1 = tf.nn.max_pool(A1, ksize=[1,2,2,1],strides= [1,2,2,1], padding=\"SAME\") #Same padding to keep same dimensions in the output\n",
    "        \n",
    "    #Second Convolution Layer\n",
    "    with tf.name_scope(\"ConvLayer2\"):\n",
    "        W2 = tf.get_variable( \"W2\",shape = (n_H2, n_W2, n_C1, n_C2),initializer= tf.contrib.layers.xavier_initializer(seed = 19), dtype=tf.float32)\n",
    "        B2 = tf.get_variable(\"B2\", shape= (1,1,1,n_C2), initializer= tf.contrib.layers.xavier_initializer(seed = 10), dtype=tf.float32)\n",
    "        Z2 = tf.nn.conv2d(P1,W2, strides = [1,1,1,1], padding = 'VALID')   #No padding\n",
    "        A2 = tf.nn.relu(tf.nn.bias_add(Z2, tf.squeeze(B2)))\n",
    "        P2 = tf.nn.max_pool(A2, ksize=[1,2,2,1],strides= [1,2,2,1], padding=\"VALID\") #No padding\n",
    "        P2 = tf.contrib.layers.flatten(P2)\n",
    "        P2_shape = P2.get_shape().as_list()\n",
    "        \n",
    "    #Fully Connected Layer\n",
    "    with tf.name_scope(\"FCLayer1\"):\n",
    "        Wfc1 = tf.get_variable(\"Wfc1\", shape=(P2_shape[1],84), initializer=tf.truncated_normal_initializer(), dtype=tf.float32)\n",
    "        bfc1 = tf.get_variable(\"bfc1\", shape=(84,),initializer=tf.truncated_normal_initializer(), dtype=tf.float32 )\n",
    "        Z3 = tf.matmul(P2, Wfc1)+bfc1\n",
    "        A3 = tf.nn.relu(Z3)\n",
    "    with tf.name_scope(\"FCLayer2\"):\n",
    "        Wfc2 = tf.get_variable(\"Wfc2\", shape=(84,10), initializer=tf.truncated_normal_initializer(), dtype=tf.float32)\n",
    "        bfc2 = tf.get_variable(\"bfc2\", shape=(10,),initializer=tf.truncated_normal_initializer(), dtype=tf.float32 )\n",
    "        Z4 = tf.matmul(A3, Wfc2)+bfc2\n",
    "        predictions = tf.arg_max(Z4,1)\n",
    "        \n",
    "    #Loss function\n",
    "    with tf.name_scope(\"cost\"):\n",
    "        cost = tf.reduce_mean(tf.nn.softmax_cross_entropy_with_logits(logits=Z4, labels=Y))\n",
    "        \n",
    "    #Optimizer\n",
    "    with tf.name_scope(\"optimizer\") :\n",
    "        optimizer = tf.train.AdamOptimizer(learning_rate=learning_rate).minimize(cost)\n",
    "    \n",
    "    #Summaries for TensorBoard\n",
    "    with tf.name_scope(\"summaries\"):\n",
    "        tf.summary.scalar(\"cost\",cost)\n",
    "        merged=tf.summary.merge_all()\n",
    "        \n",
    "    train_writer = tf.summary.FileWriter('/tmp/TB_CNN5', tf.get_default_graph()) \n",
    "    \n",
    "    #Initializer\n",
    "    initIt=tf.global_variables_initializer()    \n",
    "\n",
    "        "
   ]
  },
  {
   "cell_type": "markdown",
   "metadata": {},
   "source": [
    "## Model Training & Evaluation"
   ]
  },
  {
   "cell_type": "code",
   "execution_count": 33,
   "metadata": {},
   "outputs": [
    {
     "name": "stdout",
     "output_type": "stream",
     "text": [
      "step : 0, Average of minibatch's losses = 13.675859\n",
      "step : 10, Average of minibatch's losses = 0.277974\n",
      "step : 20, Average of minibatch's losses = 0.135502\n",
      "step : 30, Average of minibatch's losses = 0.102907\n",
      "step : 40, Average of minibatch's losses = 0.100315\n",
      "Train Accuracy = 0.975467\n",
      "Test Accuracy = 0.974200\n"
     ]
    },
    {
     "data": {
      "image/png": "[encoded data removed]",
      "text/plain": [
       "<Figure size 432x288 with 1 Axes>"
      ]
     },
     "metadata": {},
     "output_type": "display_data"
    }
   ],
   "source": [
    "#Training Parameters\n",
    "n_epoches = 50\n",
    "batchSize = 2000\n",
    "\n",
    "Sesso=tf.Session(graph=myGraph)\n",
    "with tf.Session(graph=myGraph) as Sesso:\n",
    "    losses=list()\n",
    "    Sesso.run(initIt)\n",
    "    j = 0\n",
    "    for i in range(n_epoches):\n",
    "        perEpochLoss = list()\n",
    "        for batch in range(train_images.shape[0]//batchSize):\n",
    "            miniBatchX, miniBatchY = train_images[batch*batchSize:(1+batch)*batchSize,], train_labels[batch*batchSize:(1+batch)*batchSize,]\n",
    "            feed_dict={X:miniBatchX,Y:miniBatchY}\n",
    "            _, summary, loss = Sesso.run([optimizer,merged ,cost], feed_dict=feed_dict)\n",
    "            train_writer.add_summary(summary,j)\n",
    "            perEpochLoss.append(loss)\n",
    "            losses.append(loss)\n",
    "            j = j+1\n",
    "        perEpochLoss = np.mean(perEpochLoss)\n",
    "        if (i%10 == 0):\n",
    "            print(\"step : %d, Average of minibatch's losses = %f\"%(i, perEpochLoss))\n",
    "        \n",
    "    w1_final, b1_final, W2_final, b2_final, wfc1_final, bfc1_final = Sesso.run([W1, B1,W2,B2, Wfc1,bfc1])\n",
    "        \n",
    "    #Predicting on train Data using optimal learned parameters\n",
    "    preds = Sesso.run(predictions, feed_dict={X: train_images})\n",
    "    #Train Accuracy\n",
    "    accuracyTrain = np.sum(preds==np.argmax(train_labels,1))/len(train_labels)\n",
    "    \n",
    "    #Test Accuracy\n",
    "    testPreds = Sesso.run(predictions, feed_dict = {X: test_images})  \n",
    "    accuracyTest = np.sum(testPreds==np.argmax(test_labels,1))/len(test_labels)\n",
    "    \n",
    "    #Accuracies\n",
    "    print(\"Train Accuracy = %f\"%accuracyTrain)\n",
    "    print(\"Test Accuracy = %f\"%accuracyTest)\n",
    "    \n",
    "    \n",
    "    #Plotting the Learning Curve\n",
    "    plt.title(\"Learning Curve - CNN 'LeNet-5' -\")\n",
    "    plt.plot(losses,\"y\")"
   ]
  },
  {
   "cell_type": "markdown",
   "metadata": {},
   "source": [
    "We get a test accuracy of 97% which is generally the average performance of the LeNet-5 architecture (Check the Yan LuCun's MNIST Website).  \n",
    "\n",
    "## Graph Visualization  \n",
    "TensorBoard is the best tool to visualize the graph and keep track of all its operations and tensors. This helps getting more sense of the model and it's also used as a debugging tool.  \n",
    "To run TensorBoard, type the command below in the command line :  \n",
    "> ** tensorboard --logdir=/tmp/TB_CNN5  **   \n",
    "\n",
    "Once TensorBoard is running, we navigate the web browser to **localhost:6006** to view the TensorBoard. (By default adress).\n",
    "\n",
    "In the TensorBoard page, we can see the navigation tabs in the top right corner. Each tab represents a set of serialized data that can be visualized.\n",
    "\n",
    "*For more informations on how to use the graph tab to visualize TF graphs, check this link :  https://www.tensorflow.org/guide/graph_viz *  \n",
    "\n",
    "Here is a screenshot of a summarized view of the graph we ran in this tuorial :  \n",
    "\n",
    "<img src=\"graph_simple_cnn.png\"> "
   ]
  },
  {
   "cell_type": "markdown",
   "metadata": {},
   "source": [
    "                                                \n",
    "                                                              ** Completed on Wednesday August 29 **\n",
    "                                                                 ** @Author : Ouadie EL FAROUKI **"
   ]
  },
  {
   "cell_type": "code",
   "execution_count": null,
   "metadata": {},
   "outputs": [],
   "source": []
  }
 ],
 "metadata": {
  "kernelspec": {
   "display_name": "Python 3",
   "language": "python",
   "name": "python3"
  },
  "language_info": {
   "codemirror_mode": {
    "name": "ipython",
    "version": 3
   },
   "file_extension": ".py",
   "mimetype": "text/x-python",
   "name": "python",
   "nbconvert_exporter": "python",
   "pygments_lexer": "ipython3",
   "version": "3.6.5"
  }
 },
 "nbformat": 4,
 "nbformat_minor": 2
}
